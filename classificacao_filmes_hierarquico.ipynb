{
 "cells": [
  {
   "cell_type": "markdown",
   "metadata": {},
   "source": [
    "# Agrupamento Hierarquico\n",
    "## usamos o Kmeans para recomendar filmes \n",
    "### a partir do Kmeans podemos recomendar filmes semelhantes ao gosto de uma pessoa"
   ]
  },
  {
   "cell_type": "code",
   "execution_count": 2,
   "metadata": {},
   "outputs": [
    {
     "name": "stderr",
     "output_type": "stream",
     "text": [
      "/home/pedro/anaconda2/lib/python2.7/site-packages/sklearn/preprocessing/data.py:645: DataConversionWarning: Data with input dtype int64 were all converted to float64 by StandardScaler.\n",
      "  return self.partial_fit(X, y)\n",
      "/home/pedro/anaconda2/lib/python2.7/site-packages/sklearn/base.py:464: DataConversionWarning: Data with input dtype int64 were all converted to float64 by StandardScaler.\n",
      "  return self.fit(X, **fit_params).transform(X)\n"
     ]
    }
   ],
   "source": [
    "# inicio de codigo igual ao codigo do particionado\n",
    "\n",
    "import pandas as pd\n",
    "\n",
    "uri = 'https://raw.githubusercontent.com/alura-cursos/machine-learning-algoritmos-nao-supervisionados/master/movies.csv'\n",
    "filmes = pd.read_csv(uri)\n",
    "filmes.head()\n",
    "\n",
    "# categoriza a partir das string a coluna generos\n",
    "generos = filmes.genres.str.get_dummies()\n",
    "generos.head()\n",
    "\n",
    "# concatena os arrays lado a lado\n",
    "filmes = pd.concat([filmes,generos],axis = 1)\n",
    "filmes.head()\n",
    "\n",
    "# escala os generos\n",
    "from sklearn.preprocessing import StandardScaler\n",
    "scaler = StandardScaler()\n",
    "generos_escalados = scaler.fit_transform(generos)"
   ]
  },
  {
   "cell_type": "code",
   "execution_count": 8,
   "metadata": {},
   "outputs": [
    {
     "data": {
      "text/plain": [
       "array([ 5, 14, 13, ...,  2,  5,  3])"
      ]
     },
     "execution_count": 8,
     "metadata": {},
     "output_type": "execute_result"
    }
   ],
   "source": [
    "from sklearn.cluster import AgglomerativeClustering\n",
    "\n",
    "# baseado no elbow method\n",
    "modelo = AgglomerativeClustering(n_clusters = 17)\n",
    "grupos = modelo.fit_predict(generos_escalados)\n",
    "grupos"
   ]
  },
  {
   "cell_type": "code",
   "execution_count": null,
   "metadata": {},
   "outputs": [],
   "source": []
  }
 ],
 "metadata": {
  "kernelspec": {
   "display_name": "Python 2",
   "language": "python",
   "name": "python2"
  },
  "language_info": {
   "codemirror_mode": {
    "name": "ipython",
    "version": 2
   },
   "file_extension": ".py",
   "mimetype": "text/x-python",
   "name": "python",
   "nbconvert_exporter": "python",
   "pygments_lexer": "ipython2",
   "version": "2.7.16"
  }
 },
 "nbformat": 4,
 "nbformat_minor": 2
}
